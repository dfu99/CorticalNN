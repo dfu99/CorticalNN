{
 "cells": [
  {
   "cell_type": "code",
   "execution_count": null,
   "id": "0015d0d1-24dc-4665-a135-20cce1a901b7",
   "metadata": {
    "tags": []
   },
   "outputs": [],
   "source": [
    "# Testing the feedforward biases in a non-trained, randomly initialized neural net\n",
    "# Running this test on CIFAR-100"
   ]
  },
  {
   "cell_type": "markdown",
   "id": "887880b0-60d5-4b7b-8810-4f0755559db7",
   "metadata": {
    "jp-MarkdownHeadingCollapsed": true,
    "tags": []
   },
   "source": [
    "# Setup"
   ]
  },
  {
   "cell_type": "code",
   "execution_count": null,
   "id": "95e9be71-85cb-48dd-9520-bcd314626fa8",
   "metadata": {
    "tags": []
   },
   "outputs": [],
   "source": [
    "# This cell imports modules\n",
    "import torch\n",
    "from torch import nn\n",
    "from torch.utils.data import DataLoader, Subset\n",
    "from torchvision import datasets\n",
    "import torchvision.transforms as transforms\n",
    "import numpy as np\n",
    "import json"
   ]
  },
  {
   "cell_type": "code",
   "execution_count": null,
   "id": "0253bb2a-cf4a-4e4c-8fe3-8460c34226f0",
   "metadata": {
    "tags": []
   },
   "outputs": [],
   "source": [
    "### Load the CIFAR-100 model\n",
    "\n",
    "transform = transforms.Compose([\n",
    "    transforms.ToTensor(),\n",
    "    transforms.Normalize((0.5071, 0.4867, 0.4408), (0.2675, 0.2565, 0.2761))\n",
    "])\n",
    "\n",
    "cifar100 = datasets.CIFAR100(root='./data', train=True, download=True, transform=transform)\n",
    "\n",
    "# Create separate dataloaders for each class\n",
    "class_dataloaders = []\n",
    "for class_idx in range(100):\n",
    "    class_indices = [i for i, (_, label) in enumerate(cifar100) if label == class_idx]\n",
    "    class_subset = Subset(cifar100, class_indices)\n",
    "    class_dataloader = DataLoader(class_subset, batch_size=100, shuffle=False)\n",
    "    class_dataloaders.append(class_dataloader)\n",
    "    print(f\"Dataloader #{class_idx} done.\")"
   ]
  },
  {
   "cell_type": "code",
   "execution_count": null,
   "id": "0b6f8284-a8e2-4287-9089-fd4850b37e97",
   "metadata": {
    "tags": []
   },
   "outputs": [],
   "source": [
    "labels = [\n",
    "    \"apple\",\n",
    "    \"aquarium_fish\",\n",
    "    \"baby\",\n",
    "    \"bear\",\n",
    "    \"beaver\",\n",
    "    \"bed\",\n",
    "    \"bee\",\n",
    "    \"beetle\",\n",
    "    \"bicycle\",\n",
    "    \"bottle\",\n",
    "    \"bowl\",\n",
    "    \"boy\",\n",
    "    \"bridge\",\n",
    "    \"bus\",\n",
    "    \"butterfly\",\n",
    "    \"camel\",\n",
    "    \"can\",\n",
    "    \"castle\",\n",
    "    \"caterpillar\",\n",
    "    \"cattle\",\n",
    "    \"chair\",\n",
    "    \"chimpanzee\",\n",
    "    \"clock\",\n",
    "    \"cloud\",\n",
    "    \"cockroach\",\n",
    "    \"couch\",\n",
    "    \"crab\",\n",
    "    \"crocodile\",\n",
    "    \"cup\",\n",
    "    \"dinosaur\",\n",
    "    \"dolphin\",\n",
    "    \"elephant\",\n",
    "    \"flatfish\",\n",
    "    \"forest\",\n",
    "    \"fox\",\n",
    "    \"girl\",\n",
    "    \"hamster\",\n",
    "    \"house\",\n",
    "    \"kangaroo\",\n",
    "    \"keyboard\",\n",
    "    \"lamp\",\n",
    "    \"lawn_mower\",\n",
    "    \"leopard\",\n",
    "    \"lion\",\n",
    "    \"lizard\",\n",
    "    \"lobster\",\n",
    "    \"man\",\n",
    "    \"maple_tree\",\n",
    "    \"motorcycle\",\n",
    "    \"mountain\",\n",
    "    \"mouse\",\n",
    "    \"mushroom\",\n",
    "    \"oak_tree\",\n",
    "    \"orange\",\n",
    "    \"orchid\",\n",
    "    \"otter\",\n",
    "    \"palm_tree\",\n",
    "    \"pear\",\n",
    "    \"pickup_truck\",\n",
    "    \"pine_tree\",\n",
    "    \"plain\",\n",
    "    \"plate\",\n",
    "    \"poppy\",\n",
    "    \"porcupine\",\n",
    "    \"possum\",\n",
    "    \"rabbit\",\n",
    "    \"raccoon\",\n",
    "    \"ray\",\n",
    "    \"road\",\n",
    "    \"rocket\",\n",
    "    \"rose\",\n",
    "    \"sea\",\n",
    "    \"seal\",\n",
    "    \"shark\",\n",
    "    \"shrew\",\n",
    "    \"skunk\",\n",
    "    \"skyscraper\",\n",
    "    \"snail\",\n",
    "    \"snake\",\n",
    "    \"spider\",\n",
    "    \"squirrel\",\n",
    "    \"streetcar\",\n",
    "    \"sunflower\",\n",
    "    \"sweet_pepper\",\n",
    "    \"table\",\n",
    "    \"tank\",\n",
    "    \"telephone\",\n",
    "    \"television\",\n",
    "    \"tiger\",\n",
    "    \"tractor\",\n",
    "    \"train\",\n",
    "    \"trout\",\n",
    "    \"tulip\",\n",
    "    \"turtle\",\n",
    "    \"wardrobe\",\n",
    "    \"whale\",\n",
    "    \"willow_tree\",\n",
    "    \"wolf\",\n",
    "    \"woman\",\n",
    "    \"worm\"\n",
    "]"
   ]
  },
  {
   "cell_type": "code",
   "execution_count": null,
   "id": "75ca2364-6e0e-4135-b0fd-f958c4984719",
   "metadata": {
    "tags": []
   },
   "outputs": [],
   "source": [
    "# Show one image from each class\n",
    "from matplotlib import pyplot as plt\n",
    "for class_idx in range(100):\n",
    "    class_indices = [i for i, (_, label) in enumerate(cifar100) if label == class_idx]\n",
    "    class_subset = Subset(cifar100, class_indices)\n",
    "    figure = plt.figure(figsize=(1,1))\n",
    "    sample_idx = torch.randint(len(class_subset), size=(1,)).item()\n",
    "    img, label = class_subset[sample_idx]\n",
    "    plt.axis(\"off\")\n",
    "    plt.imshow(img.T)\n",
    "    print(labels[label])\n",
    "    plt.show()"
   ]
  },
  {
   "cell_type": "code",
   "execution_count": null,
   "id": "2cea1718-2771-4d78-8cf7-c6c42550aca5",
   "metadata": {
    "tags": []
   },
   "outputs": [],
   "source": [
    "# Get cpu, gpu or mps device for training.\n",
    "device = (\n",
    "    \"cuda\"\n",
    "    if torch.cuda.is_available()\n",
    "    else \"mps\"\n",
    "    if torch.backends.mps.is_available()\n",
    "    else \"cpu\"\n",
    ")\n",
    "print(f\"Using {device} device\")"
   ]
  },
  {
   "cell_type": "markdown",
   "id": "587855ab-907a-482d-b32f-155cc2049349",
   "metadata": {
    "tags": []
   },
   "source": [
    "# Model"
   ]
  },
  {
   "cell_type": "code",
   "execution_count": null,
   "id": "3f46e75b-27e3-4f3c-a66f-b3c3b697006d",
   "metadata": {
    "tags": []
   },
   "outputs": [],
   "source": [
    "# Define a flexible neural network\n",
    "class FlexibleNet(nn.Module):\n",
    "    def __init__(self, hidden_layers):\n",
    "        super().__init__()\n",
    "        self.flatten = nn.Flatten()\n",
    "        self.layers = nn.ModuleList()\n",
    "        self.layers.append(nn.Linear(32*32*3, hidden_layers[0]))\n",
    "        for i in range(1, len(hidden_layers)):\n",
    "            self.layers.append(nn.Linear(hidden_layers[i-1], hidden_layers[i]))\n",
    "        self.layers.append(nn.Linear(hidden_layers[-1], 100))\n",
    "        self.relu = nn.ReLU()\n",
    "    \n",
    "    def forward(self, x):\n",
    "        x = self.flatten(x)\n",
    "        for layer in self.layers[:-1]:\n",
    "            x = self.relu(layer(x))\n",
    "        return self.layers[-1](x)"
   ]
  },
  {
   "cell_type": "code",
   "execution_count": null,
   "id": "727d6e50-3508-436a-a0b4-d1c1695ea0a4",
   "metadata": {
    "tags": []
   },
   "outputs": [],
   "source": [
    "# Evaluation function\n",
    "def evaluate(model, dataloader):\n",
    "    model.eval()\n",
    "    correct = 0\n",
    "    total = 0\n",
    "    with torch.no_grad():\n",
    "        for X, Y in dataloader:\n",
    "            x, y = X.to(device), Y.to(device)\n",
    "            outputs = model(x)\n",
    "            _, predicted = torch.max(outputs.data, 1)\n",
    "            total += y.size(0)\n",
    "            correct += (predicted == y).sum().item()\n",
    "    return correct / total"
   ]
  },
  {
   "cell_type": "markdown",
   "id": "97e69477-0a8d-431a-b2de-9fa6772d5cd8",
   "metadata": {},
   "source": [
    "# Evaluate"
   ]
  },
  {
   "cell_type": "code",
   "execution_count": null,
   "id": "ae32fe99-39b4-4d46-8a30-6df5fc9bd399",
   "metadata": {
    "tags": []
   },
   "outputs": [],
   "source": [
    "# Evaluation method\n",
    "def experiment(hidden_layers, num_iterations):\n",
    "    print(\"==========\")\n",
    "    print(\"Evaluating hidden layer architecture: {}\".format(str(hidden_layers)))\n",
    "    class_accuracies = np.zeros((num_iterations, 100))\n",
    "    for i in range(num_iterations):\n",
    "        model = FlexibleNet(hidden_layers).to(device)\n",
    "        # Evaluate the model on each class\n",
    "        for class_idx, dataloader in enumerate(class_dataloaders):\n",
    "            accuracy = evaluate(model, dataloader)\n",
    "            class_accuracies[i, class_idx] = accuracy\n",
    "        if i % num_iterations//10 == 0:\n",
    "            print(f\"Iteration [{(i+1):03d}/{num_iterations:03d}]\")\n",
    "\n",
    "    class_accuracies = np.mean(class_accuracies, axis=0)\n",
    "    return class_accuracies"
   ]
  },
  {
   "cell_type": "code",
   "execution_count": null,
   "id": "e3412819-2e25-40f3-a38b-a2d4fdb9fcbf",
   "metadata": {
    "tags": []
   },
   "outputs": [],
   "source": [
    "# Plotting method\n",
    "def plot_results(class_accuracies, hidden_layers, num_iterations, classes):\n",
    "    plt.figure(figsize=(120, 6))\n",
    "    plt.bar(classes, class_accuracies)\n",
    "    plt.ylabel('Accuracy')\n",
    "    plt.title('Feed-forward Prediction Accuracy for Each CIFAR-100 Class')\n",
    "    plt.ylim(0, 1)  # Set y-axis limit from 0 to 1\n",
    "\n",
    "    # Add value labels on top of each bar\n",
    "    for i, v in enumerate(class_accuracies):\n",
    "        plt.text(i, v + 0.01, f'{v:.2f}', ha='center', va='bottom')\n",
    "\n",
    "    # Add Xtick for uniform distribution\n",
    "    plt.axhline(y = 1/len(classes), color = 'r', linestyle = '--')\n",
    "    plt.xticks(list(plt.xticks()[0]) + [1/len(classes)])\n",
    "\n",
    "    # Print overall accuracy\n",
    "    overall_accuracy = sum(class_accuracies) / len(class_accuracies)\n",
    "    print(f\"Overall accuracy: {overall_accuracy:.4f}\")\n",
    "\n",
    "    figname = f\"results/cifar100/ff{str(hidden_layers)}_{num_iterations:06d}.png\"\n",
    "    plt.savefig(figname)"
   ]
  },
  {
   "cell_type": "code",
   "execution_count": null,
   "id": "e3b47b6e",
   "metadata": {},
   "outputs": [],
   "source": [
    "# Output data to JSON\n",
    "def save_results(class_accuracies, hidden_layers, num_iterations, classes):\n",
    "    data = {}\n",
    "    for label, acc in zip(classes, class_accuracies):\n",
    "        data[label] = acc\n",
    "    with open(f\"results/cirfa100/ff{str(hidden_layers)}_{num_iterations:06d}.json\", 'w') as f:\n",
    "        json.dump(data, f, indent=2)"
   ]
  },
  {
   "cell_type": "code",
   "execution_count": null,
   "id": "54f726c8-5508-4236-903a-221ee0081c57",
   "metadata": {
    "tags": []
   },
   "outputs": [],
   "source": [
    "# Experiment loop\n",
    "# Test different hidden layer architectures\n",
    "archs16 = [[16]*num_layers for num_layers in range(1,7)]\n",
    "archs32 = [[32]*num_layers for num_layers in range(1,7)]\n",
    "archs64 = [[64]*num_layers for num_layers in range(1,7)]\n",
    "archs128 = [[128]*num_layers for num_layers in range(1,7)]\n",
    "\n",
    "archs = archs16 + archs32 + archs64 + archs128\n",
    "num_iterations = 100\n",
    "for hidden_layers in archs:\n",
    "    class_accuracies = experiment(hidden_layers, num_iterations)\n",
    "    save_results(class_accuracies, hidden_layers, num_iterations, labels)\n",
    "    plot_results(class_accuracies, hidden_layers, num_iterations, labels)"
   ]
  }
 ],
 "metadata": {
  "kernelspec": {
   "display_name": "Python 3 (ipykernel)",
   "language": "python",
   "name": "python3"
  },
  "language_info": {
   "codemirror_mode": {
    "name": "ipython",
    "version": 3
   },
   "file_extension": ".py",
   "mimetype": "text/x-python",
   "name": "python",
   "nbconvert_exporter": "python",
   "pygments_lexer": "ipython3",
   "version": "3.11.5"
  }
 },
 "nbformat": 4,
 "nbformat_minor": 5
}
